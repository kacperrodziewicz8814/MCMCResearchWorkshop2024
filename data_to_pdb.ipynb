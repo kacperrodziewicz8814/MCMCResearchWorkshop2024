{
 "cells": [
  {
   "cell_type": "code",
   "execution_count": 32,
   "id": "159082c1",
   "metadata": {},
   "outputs": [
    {
     "name": "stdout",
     "output_type": "stream",
     "text": [
      "Requirement already satisfied: pip>=19.3.1 in c:\\users\\basiu\\anaconda3\\lib\\site-packages (from -r requirements.txt (line 1)) (21.2.4)\n",
      "Requirement already satisfied: setuptools>=41.4.0 in c:\\users\\basiu\\anaconda3\\lib\\site-packages (from -r requirements.txt (line 2)) (61.2.0)\n",
      "Requirement already satisfied: numpy>=1.17 in c:\\users\\basiu\\anaconda3\\lib\\site-packages (from -r requirements.txt (line 3)) (1.21.5)\n",
      "Collecting git+https://bitbucket.org/4dnucleome/points_io.git\n",
      "  Cloning https://bitbucket.org/4dnucleome/points_io.git to c:\\users\\basiu\\appdata\\local\\temp\\pip-req-build-4hisj4eg\n",
      "  Resolved https://bitbucket.org/4dnucleome/points_io.git to commit 39e858d9facc793642d7b4b28f274ababe651b9f\n",
      "Requirement already satisfied: numpy>=1.17 in c:\\users\\basiu\\anaconda3\\lib\\site-packages (from points-io==1.1.1) (1.21.5)\n"
     ]
    },
    {
     "name": "stderr",
     "output_type": "stream",
     "text": [
      "  Running command git clone -q https://bitbucket.org/4dnucleome/points_io.git 'C:\\Users\\basiu\\AppData\\Local\\Temp\\pip-req-build-4hisj4eg'\n"
     ]
    }
   ],
   "source": [
    "! pip install -r requirements.txt\n",
    "! pip install git+https://bitbucket.org/4dnucleome/points_io.git"
   ]
  },
  {
   "cell_type": "code",
   "execution_count": 40,
   "id": "0af5a91b",
   "metadata": {},
   "outputs": [],
   "source": [
    "from points_io import point_reader, save_points_as_pdb"
   ]
  },
  {
   "cell_type": "code",
   "execution_count": 41,
   "id": "4a396a44",
   "metadata": {},
   "outputs": [],
   "source": [
    "import pandas as pd\n",
    "import numpy as np"
   ]
  },
  {
   "cell_type": "code",
   "execution_count": 42,
   "id": "33af827d",
   "metadata": {},
   "outputs": [],
   "source": [
    "data = pd.read_table('saw_coordinates.txt', delimiter=' ', header=None, names=['x', 'y', 'z'])"
   ]
  },
  {
   "cell_type": "code",
   "execution_count": 43,
   "id": "f056a239",
   "metadata": {},
   "outputs": [],
   "source": [
    "data1 = np.array(data)"
   ]
  },
  {
   "cell_type": "code",
   "execution_count": 44,
   "id": "1ab28d51",
   "metadata": {},
   "outputs": [
    {
     "name": "stdout",
     "output_type": "stream",
     "text": [
      "File my_file.pdb saved...\n"
     ]
    }
   ],
   "source": [
    "save_points_as_pdb(data1, 'my_file.pdb')"
   ]
  }
 ],
 "metadata": {
  "kernelspec": {
   "display_name": "Python 3 (ipykernel)",
   "language": "python",
   "name": "python3"
  },
  "language_info": {
   "codemirror_mode": {
    "name": "ipython",
    "version": 3
   },
   "file_extension": ".py",
   "mimetype": "text/x-python",
   "name": "python",
   "nbconvert_exporter": "python",
   "pygments_lexer": "ipython3",
   "version": "3.9.12"
  }
 },
 "nbformat": 4,
 "nbformat_minor": 5
}
